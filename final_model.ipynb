{
  "nbformat": 4,
  "nbformat_minor": 0,
  "metadata": {
    "colab": {
      "private_outputs": true,
      "provenance": [],
      "gpuType": "T4",
      "authorship_tag": "ABX9TyNqpHlnFKsWBi+I22M4ZX2o",
      "include_colab_link": true
    },
    "kernelspec": {
      "name": "python3",
      "display_name": "Python 3"
    },
    "language_info": {
      "name": "python"
    },
    "accelerator": "GPU",
    "gpuClass": "standard"
  },
  "cells": [
    {
      "cell_type": "markdown",
      "metadata": {
        "id": "view-in-github",
        "colab_type": "text"
      },
      "source": [
        "<a href=\"https://colab.research.google.com/github/AffanA2003/X-ray-Dental-Detection/blob/main/final_model.ipynb\" target=\"_parent\"><img src=\"https://colab.research.google.com/assets/colab-badge.svg\" alt=\"Open In Colab\"/></a>"
      ]
    },
    {
      "cell_type": "code",
      "execution_count": null,
      "metadata": {
        "id": "d4XrOqtBjFzI"
      },
      "outputs": [],
      "source": [
        "import pandas as pd\n",
        "import os\n",
        "from PIL import Image\n",
        "import numpy as np\n",
        "import matplotlib.pyplot as plt\n",
        "from sklearn.model_selection import train_test_split\n",
        "from sklearn.utils import shuffle\n",
        "from sklearn.metrics import mean_squared_error\n",
        "import json\n",
        "import tensorflow as tf\n",
        "from tensorflow.keras.applications import VGG16\n",
        "from tensorflow.keras.layers import Dense, GlobalAveragePooling2D\n",
        "from tensorflow.keras.models import Model\n",
        "from tensorflow.keras.optimizers import Adam\n",
        "\n"
      ]
    },
    {
      "cell_type": "code",
      "source": [
        "csv_path = 'dataset.csv'\n",
        "df = pd.read_csv(csv_path)\n",
        "\n"
      ],
      "metadata": {
        "id": "pbiRosdxjXN6"
      },
      "execution_count": null,
      "outputs": []
    },
    {
      "cell_type": "code",
      "source": [
        "img_dir = 'images/'\n"
      ],
      "metadata": {
        "id": "kQy4BOshjZfx"
      },
      "execution_count": null,
      "outputs": []
    },
    {
      "cell_type": "code",
      "source": [
        "image_paths = []\n",
        "annotations = []\n",
        "labels = []\n",
        "id = []\n",
        "\n",
        "for index, row in df.iterrows():\n",
        "    img_filename = row['filename']\n",
        "    \n",
        "    # Parse the string values into dictionaries\n",
        "    region_shape_attributes = json.loads(row['region_shape_attributes'])\n",
        "    region_attributes = json.loads(row['region_attributes'])\n",
        "    id = df['region_id'].values\n",
        "    \n",
        "    annotation = {\n",
        "        'x': region_shape_attributes['x'],\n",
        "        'y': region_shape_attributes['y'],\n",
        "        'width': region_shape_attributes['width'],\n",
        "        'height': region_shape_attributes['height']\n",
        "    }\n",
        "    status = region_attributes['status']\n",
        "    \n",
        "    \n",
        "    img_path = os.path.join(img_dir, img_filename)\n",
        "    \n",
        "    image_paths.append(img_path)\n",
        "    annotations.append(annotation)\n",
        "    labels.append(status)\n",
        "\n",
        "\n"
      ],
      "metadata": {
        "id": "IDdX9q1jjefJ"
      },
      "execution_count": null,
      "outputs": []
    },
    {
      "cell_type": "code",
      "source": [
        "annotations = np.array(annotations)\n",
        "ids = np.array(id)\n",
        "labels = np.array(labels)\n",
        "image_paths, annotations, labels, ids = shuffle(image_paths, annotations, labels, ids, random_state=42)\n",
        "train_image_paths, test_image_paths, train_annotations, test_annotations, train_labels, test_labels, train_ids, test_ids = train_test_split(\n",
        "    image_paths, annotations, labels, ids, test_size=0.2, random_state=42)\n"
      ],
      "metadata": {
        "id": "x6Pn3jWljhEB"
      },
      "execution_count": null,
      "outputs": []
    },
    {
      "cell_type": "code",
      "source": [
        "def load_and_preprocess_image(image_path):\n",
        "    img = Image.open(image_path)\n",
        "    img = img.resize((224, 224))\n",
        "    img = np.array(img.convert('RGB')) / 255.0  # Convert to RGB and normalize\n",
        "    return img\n",
        "\n",
        "train_annotations = np.array(train_annotations)\n",
        "test_annotations = np.array(test_annotations)\n",
        "train_images = np.array([load_and_preprocess_image(img_path) for img_path in train_image_paths])\n",
        "test_images = np.array([load_and_preprocess_image(img_path) for img_path in test_image_paths])\n",
        "# Rest of your code...\n"
      ],
      "metadata": {
        "id": "UjCv0HVAjkxp"
      },
      "execution_count": null,
      "outputs": []
    },
    {
      "cell_type": "code",
      "source": [
        "from sklearn.preprocessing import LabelEncoder\n",
        "\n",
        "label_encoder = LabelEncoder()\n",
        "train_labels = label_encoder.fit_transform(train_labels)\n",
        "test_labels = label_encoder.transform(test_labels)\n",
        "\n",
        "\n"
      ],
      "metadata": {
        "id": "17wR_8AgjnMZ"
      },
      "execution_count": null,
      "outputs": []
    },
    {
      "cell_type": "code",
      "source": [
        "base_model = VGG16(weights='imagenet', include_top=False, input_shape=(224, 224, 3))\n",
        "x = base_model.output\n",
        "x = GlobalAveragePooling2D()(x)\n",
        "predictions = Dense(3, activation='softmax')(x)\n",
        "model = Model(inputs=base_model.input, outputs=predictions)\n",
        "model.compile(optimizer=Adam(), loss='sparse_categorical_crossentropy', metrics=['accuracy'])\n",
        "history = model.fit(train_images, train_labels, batch_size=32, epochs=10, validation_split=0.2)\n",
        "\n"
      ],
      "metadata": {
        "id": "jKFJ8O0yjq_T"
      },
      "execution_count": null,
      "outputs": []
    },
    {
      "cell_type": "code",
      "source": [
        "model.save('keras_model.h5')"
      ],
      "metadata": {
        "id": "4T9OVXXrv5vM"
      },
      "execution_count": null,
      "outputs": []
    },
    {
      "cell_type": "code",
      "source": [
        "# Evaluate the model on the test data\n",
        "test_loss, test_accuracy = model.evaluate(test_images, test_labels)\n",
        "\n",
        "# Make predictions on the test data\n",
        "test_predictions = model.predict(test_images)\n",
        "\n",
        "# Convert the predicted labels to class labels\n",
        "test_predicted_labels = np.argmax(test_predictions, axis=1)\n",
        "\n",
        "# Calculate the F1 score\n",
        "from sklearn.metrics import f1_score\n",
        "\n",
        "f1 = f1_score(test_labels, test_predicted_labels, average='macro')\n",
        "\n",
        "# Print the evaluation results\n",
        "print(\"Test Loss:\", test_loss)\n",
        "print(\"Test Accuracy:\", test_accuracy)\n",
        "print(\"F1 Score:\", f1)\n"
      ],
      "metadata": {
        "id": "C5it_QXKjsoa"
      },
      "execution_count": null,
      "outputs": []
    }
  ]
}