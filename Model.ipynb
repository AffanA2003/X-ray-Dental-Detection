{
  "nbformat": 4,
  "nbformat_minor": 0,
  "metadata": {
    "colab": {
      "provenance": [],
      "authorship_tag": "ABX9TyNMXfQX4AO4MiER4TccELPN",
      "include_colab_link": true
    },
    "kernelspec": {
      "name": "python3",
      "display_name": "Python 3"
    },
    "language_info": {
      "name": "python"
    }
  },
  "cells": [
    {
      "cell_type": "markdown",
      "metadata": {
        "id": "view-in-github",
        "colab_type": "text"
      },
      "source": [
        "<a href=\"https://colab.research.google.com/github/AffanA2003/X-ray-Dental-Detection/blob/main/Model.ipynb\" target=\"_parent\"><img src=\"https://colab.research.google.com/assets/colab-badge.svg\" alt=\"Open In Colab\"/></a>"
      ]
    },
    {
      "cell_type": "code",
      "execution_count": 54,
      "metadata": {
        "id": "LF7stoOJZpqD"
      },
      "outputs": [],
      "source": [
        "import pandas as pd\n",
        "import os\n",
        "from PIL import Image\n",
        "import numpy as np\n",
        "import matplotlib.pyplot as plt\n",
        "\n",
        "from sklearn.model_selection import train_test_split\n",
        "from sklearn.utils import shuffle\n",
        "from sklearn.metrics import classification_report\n",
        "\n",
        "import tensorflow as tf\n",
        "from tensorflow.keras.applications import VGG16\n",
        "from tensorflow.keras.layers import Dense, GlobalAveragePooling2D\n",
        "from tensorflow.keras.models import Model\n",
        "from tensorflow.keras.optimizers import Adam\n"
      ]
    },
    {
      "cell_type": "code",
      "source": [
        "csv_path = 'dataset.csv'\n",
        "df = pd.read_csv(csv_path)"
      ],
      "metadata": {
        "id": "FuWBa3YXakcm"
      },
      "execution_count": 55,
      "outputs": []
    },
    {
      "cell_type": "code",
      "source": [
        "# Create lists to store image paths and corresponding labels\n",
        "img_dir = '/images/'\n",
        "image_paths = []\n",
        "labels = []\n",
        "\n",
        "# Loop through each row in the DataFrame\n",
        "for index, row in df.iterrows():\n",
        "    img_filename = row['filename']\n",
        "    status = row['region_attributes']\n",
        "    \n",
        "    # Create the full path to the image file\n",
        "    img_path = os.path.join(img_dir, img_filename)\n",
        "    \n",
        "    # Add image path and label to the lists\n",
        "    image_paths.append(img_path)\n",
        "    labels.append(status)\n",
        "\n",
        "# Convert labels to numerical values\n",
        "label_mapping = {'{\"status\":\"1\"}': 0, '{\"status\":\"2\"}':1, '{\"status\":\"3\"}': 2}\n",
        "labels = [label_mapping[label] for label in labels]\n",
        "\n",
        "# Convert image_paths and labels to numpy arrays\n",
        "image_paths = np.array(image_paths)\n",
        "labels = np.array(labels)\n",
        "\n",
        "# Shuffle the data\n",
        "image_paths, labels = shuffle(image_paths, labels, random_state=42)\n",
        "\n",
        "# Split the data into training and testing sets\n",
        "train_image_paths, test_image_paths, train_labels, test_labels = train_test_split(\n",
        "    image_paths, labels, test_size=0.2, random_state=42)\n"
      ],
      "metadata": {
        "id": "vFPkl-MLaqTN"
      },
      "execution_count": 78,
      "outputs": []
    },
    {
      "cell_type": "code",
      "source": [
        "def load_and_preprocess_image(image_path):\n",
        "    # Load the image using PIL\n",
        "    img = Image.open(image_path)\n",
        "    \n",
        "    # Preprocess the image (e.g., resize, normalize)\n",
        "    img = img.resize((224, 224))\n",
        "    img = np.array(img) / 255.0\n",
        "    \n",
        "    return img\n",
        "\n",
        "# Load and preprocess training images\n",
        "\n",
        "train_images = np.array([load_and_preprocess_image(img_path) for img_path in train_image_paths])\n",
        "\n",
        "\n",
        "test_images = np.array([load_and_preprocess_image(img_path) for img_path in test_image_paths])\n"
      ],
      "metadata": {
        "id": "n1mPB3S8cOcl"
      },
      "execution_count": 82,
      "outputs": []
    },
    {
      "cell_type": "code",
      "source": [
        "# Load the pre-trained VGG16 model without the top classification layer\n",
        "base_model = VGG16(weights='imagenet', include_top=False, input_shape=(224, 224, 3))\n",
        "\n",
        "# Add a global average pooling layer\n",
        "x = base_model.output\n",
        "x = GlobalAveragePooling2D()(x)\n",
        "\n",
        "# Add a fully connected layer with 3 units for the 3 classes\n",
        "predictions = Dense(3, activation='softmax')(x)\n",
        "\n",
        "# Create the model\n",
        "model = Model(inputs=base_model.input, outputs=predictions)\n"
      ],
      "metadata": {
        "id": "zCCU1wzIdDz2"
      },
      "execution_count": 83,
      "outputs": []
    },
    {
      "cell_type": "code",
      "source": [
        "# Compile the model\n",
        "model.compile(optimizer=Adam(), loss='sparse_categorical_crossentropy', metrics=['accuracy'])\n",
        "\n",
        "# Train the model\n",
        "history = model.fit(train_images, train_labels, batch_size=32, epochs=10, validation_split=0.2)\n"
      ],
      "metadata": {
        "colab": {
          "base_uri": "https://localhost:8080/"
        },
        "id": "2ZsPadgrdSml",
        "outputId": "648e60d7-2d99-4c01-fa6d-8bc53bbfea30"
      },
      "execution_count": 86,
      "outputs": [
        {
          "output_type": "stream",
          "name": "stdout",
          "text": [
            "Epoch 1/10\n",
            "1/1 [==============================] - 6s 6s/step - loss: 1.0138 - accuracy: 0.5000 - val_loss: 5.9605e-07 - val_accuracy: 1.0000\n",
            "Epoch 2/10\n",
            "1/1 [==============================] - 4s 4s/step - loss: 7.3363 - accuracy: 0.5000 - val_loss: 21.6871 - val_accuracy: 0.0000e+00\n",
            "Epoch 3/10\n",
            "1/1 [==============================] - 3s 3s/step - loss: 11.0591 - accuracy: 0.5000 - val_loss: 1.2550 - val_accuracy: 0.0000e+00\n",
            "Epoch 4/10\n",
            "1/1 [==============================] - 3s 3s/step - loss: 0.8709 - accuracy: 0.5000 - val_loss: 1.0722 - val_accuracy: 0.0000e+00\n",
            "Epoch 5/10\n",
            "1/1 [==============================] - 4s 4s/step - loss: 0.8464 - accuracy: 0.5000 - val_loss: 0.8252 - val_accuracy: 0.0000e+00\n",
            "Epoch 6/10\n",
            "1/1 [==============================] - 3s 3s/step - loss: 0.7278 - accuracy: 0.5000 - val_loss: 0.1554 - val_accuracy: 1.0000\n",
            "Epoch 7/10\n",
            "1/1 [==============================] - 3s 3s/step - loss: 1.0703 - accuracy: 0.5000 - val_loss: 2.4766 - val_accuracy: 0.0000e+00\n",
            "Epoch 8/10\n",
            "1/1 [==============================] - 3s 3s/step - loss: 1.3056 - accuracy: 0.5000 - val_loss: 1.1336 - val_accuracy: 0.0000e+00\n",
            "Epoch 9/10\n",
            "1/1 [==============================] - 4s 4s/step - loss: 0.7702 - accuracy: 0.5000 - val_loss: 0.9576 - val_accuracy: 0.0000e+00\n",
            "Epoch 10/10\n",
            "1/1 [==============================] - 3s 3s/step - loss: 0.7470 - accuracy: 0.5000 - val_loss: 0.8579 - val_accuracy: 0.0000e+00\n"
          ]
        }
      ]
    },
    {
      "cell_type": "code",
      "source": [
        "# Assuming you have extracted the test labels as a list of strings\n",
        "test_labels = ['0', '1']  # Replace with your actual test labels\n",
        "\n",
        "# Convert the test labels to a numpy array of integers\n",
        "test_labels = np.array(test_labels, dtype=np.int32)\n",
        "\n",
        "# Evaluate the model on the testing set\n",
        "test_loss, test_acc = model.evaluate(test_images, test_labels)\n",
        "print(\"Test Loss:\", test_loss)\n",
        "print(\"Test Accuracy:\", test_acc)\n"
      ],
      "metadata": {
        "colab": {
          "base_uri": "https://localhost:8080/"
        },
        "id": "7NEUE1d4knMn",
        "outputId": "2e953460-4f57-42a1-9d35-26dfbdffe8cc"
      },
      "execution_count": 88,
      "outputs": [
        {
          "output_type": "stream",
          "name": "stdout",
          "text": [
            "1/1 [==============================] - 1s 1s/step - loss: 0.7358 - accuracy: 0.5000\n",
            "Test Loss: 0.7358355522155762\n",
            "Test Accuracy: 0.5\n"
          ]
        }
      ]
    }
  ]
}