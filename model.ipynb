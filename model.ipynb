{
  "nbformat": 4,
  "nbformat_minor": 0,
  "metadata": {
    "colab": {
      "provenance": [],
      "gpuType": "T4",
      "authorship_tag": "ABX9TyPx54iLWFD349prbZ/P33VP",
      "include_colab_link": true
    },
    "kernelspec": {
      "name": "python3",
      "display_name": "Python 3"
    },
    "language_info": {
      "name": "python"
    },
    "accelerator": "GPU",
    "gpuClass": "standard"
  },
  "cells": [
    {
      "cell_type": "markdown",
      "metadata": {
        "id": "view-in-github",
        "colab_type": "text"
      },
      "source": [
        "<a href=\"https://colab.research.google.com/github/AffanA2003/X-ray-Dental-Detection/blob/main/model.ipynb\" target=\"_parent\"><img src=\"https://colab.research.google.com/assets/colab-badge.svg\" alt=\"Open In Colab\"/></a>"
      ]
    },
    {
      "cell_type": "code",
      "execution_count": 2,
      "metadata": {
        "id": "LF7stoOJZpqD"
      },
      "outputs": [],
      "source": [
        "import pandas as pd\n",
        "import os\n",
        "from PIL import Image\n",
        "import numpy as np\n",
        "import matplotlib.pyplot as plt\n",
        "from sklearn.model_selection import train_test_split\n",
        "from sklearn.utils import shuffle\n",
        "from sklearn.metrics import mean_squared_error\n",
        "import json  # Import the json module to parse string values into dictionaries\n",
        "import tensorflow as tf\n",
        "from tensorflow.keras.applications import VGG16\n",
        "from tensorflow.keras.layers import Dense, GlobalAveragePooling2D\n",
        "from tensorflow.keras.models import Model\n",
        "from tensorflow.keras.optimizers import Adam\n"
      ]
    },
    {
      "cell_type": "code",
      "source": [
        "csv_path = 'dataset.csv'\n",
        "df = pd.read_csv(csv_path)"
      ],
      "metadata": {
        "id": "FuWBa3YXakcm"
      },
      "execution_count": 4,
      "outputs": []
    },
    {
      "cell_type": "code",
      "source": [
        "img_dir = 'images/'\n",
        "image_paths = []\n",
        "annotations = []\n",
        "labels = []\n",
        "\n",
        "for index, row in df.iterrows():\n",
        "    img_filename = row['filename']\n",
        "    \n",
        "    # Parse the string values into dictionaries\n",
        "    region_shape_attributes = json.loads(row['region_shape_attributes'])\n",
        "    region_attributes = json.loads(row['region_attributes'])\n",
        "    \n",
        "    annotation = {\n",
        "        'x': region_shape_attributes['x'],\n",
        "        'y': region_shape_attributes['y'],\n",
        "        'width': region_shape_attributes['width'],\n",
        "        'height': region_shape_attributes['height']\n",
        "    }\n",
        "    status = region_attributes['status']\n",
        "    \n",
        "    img_path = os.path.join(img_dir, img_filename)\n",
        "    \n",
        "    image_paths.append(img_path)\n",
        "    annotations.append(annotation)\n",
        "    labels.append(status)\n",
        "\n",
        "annotations = np.array(annotations)\n",
        "labels = np.array(labels)\n",
        "image_paths, annotations, labels = shuffle(image_paths, annotations, labels, random_state=42)"
      ],
      "metadata": {
        "id": "vFPkl-MLaqTN"
      },
      "execution_count": 5,
      "outputs": []
    },
    {
      "cell_type": "code",
      "source": [
        "train_image_paths, test_image_paths, train_annotations, test_annotations, train_labels, test_labels = train_test_split(\n",
        "    image_paths, annotations, labels, test_size=0.2, random_state=42)\n",
        "\n",
        "def load_and_preprocess_image(image_path):\n",
        "    img = Image.open(image_path)\n",
        "    img = img.resize((224, 224))\n",
        "    img = np.array(img) / 255.0\n",
        "    return img\n",
        "    \n",
        "train_labels = np.array(train_labels)\n",
        "test_labes = np.array(test_labels)\n",
        "train_annotations = np.array(train_annotations)\n",
        "test_annotations = np.array(test_annotations)\n",
        "train_images = np.array([load_and_preprocess_image(img_path) for img_path in train_image_paths])\n",
        "test_images = np.array([load_and_preprocess_image(img_path) for img_path in test_image_paths])"
      ],
      "metadata": {
        "id": "n1mPB3S8cOcl"
      },
      "execution_count": 6,
      "outputs": []
    },
    {
      "cell_type": "code",
      "source": [
        "train_labels = np.array(train_labels)\n",
        "test_labes = np.array(test_labels)"
      ],
      "metadata": {
        "id": "V8k8lPRELnti"
      },
      "execution_count": 29,
      "outputs": []
    },
    {
      "cell_type": "code",
      "source": [
        "from sklearn.preprocessing import LabelEncoder\n",
        "\n",
        "label_encoder = LabelEncoder()\n",
        "train_labels = label_encoder.fit_transform(train_labels)\n",
        "test_labels = label_encoder.transform(test_labels)"
      ],
      "metadata": {
        "id": "8mtyKo9PB2v3"
      },
      "execution_count": 7,
      "outputs": []
    },
    {
      "cell_type": "code",
      "source": [
        "\n",
        "base_model = VGG16(weights='imagenet', include_top=False, input_shape=(224, 224, 3))\n",
        "x = base_model.output\n",
        "x = GlobalAveragePooling2D()(x)\n",
        "predictions = Dense(3, activation='softmax')(x)\n",
        "model = Model(inputs=base_model.input, outputs=predictions)\n",
        "model.compile(optimizer=Adam(), loss='sparse_categorical_crossentropy', metrics=['accuracy'])\n",
        "history = model.fit(train_images, train_labels, batch_size=32, epochs=10, validation_split=0.2)\n"
      ],
      "metadata": {
        "id": "zCCU1wzIdDz2",
        "colab": {
          "base_uri": "https://localhost:8080/"
        },
        "outputId": "ef2daf9f-d71b-43ae-b211-3a2d775a5141"
      },
      "execution_count": 8,
      "outputs": [
        {
          "output_type": "stream",
          "name": "stdout",
          "text": [
            "Downloading data from https://storage.googleapis.com/tensorflow/keras-applications/vgg16/vgg16_weights_tf_dim_ordering_tf_kernels_notop.h5\n",
            "58889256/58889256 [==============================] - 3s 0us/step\n",
            "Epoch 1/10\n",
            "6/6 [==============================] - 43s 3s/step - loss: 8.8396 - accuracy: 0.4368 - val_loss: 1.6012 - val_accuracy: 0.7083\n",
            "Epoch 2/10\n",
            "6/6 [==============================] - 3s 443ms/step - loss: 1.1977 - accuracy: 0.6158 - val_loss: 0.9365 - val_accuracy: 0.7083\n",
            "Epoch 3/10\n",
            "6/6 [==============================] - 3s 467ms/step - loss: 0.9669 - accuracy: 0.6158 - val_loss: 0.8006 - val_accuracy: 0.7083\n",
            "Epoch 4/10\n",
            "6/6 [==============================] - 3s 465ms/step - loss: 0.9757 - accuracy: 0.6158 - val_loss: 0.8531 - val_accuracy: 0.7083\n",
            "Epoch 5/10\n",
            "6/6 [==============================] - 3s 443ms/step - loss: 0.9479 - accuracy: 0.6158 - val_loss: 0.8973 - val_accuracy: 0.7083\n",
            "Epoch 6/10\n",
            "6/6 [==============================] - 3s 464ms/step - loss: 0.9433 - accuracy: 0.6158 - val_loss: 0.8369 - val_accuracy: 0.7083\n",
            "Epoch 7/10\n",
            "6/6 [==============================] - 3s 445ms/step - loss: 0.9305 - accuracy: 0.6158 - val_loss: 0.8124 - val_accuracy: 0.7083\n",
            "Epoch 8/10\n",
            "6/6 [==============================] - 3s 453ms/step - loss: 0.9454 - accuracy: 0.6158 - val_loss: 0.9538 - val_accuracy: 0.7083\n",
            "Epoch 9/10\n",
            "6/6 [==============================] - 3s 445ms/step - loss: 0.9626 - accuracy: 0.6158 - val_loss: 0.8168 - val_accuracy: 0.7083\n",
            "Epoch 10/10\n",
            "6/6 [==============================] - 3s 447ms/step - loss: 0.9369 - accuracy: 0.6158 - val_loss: 0.8397 - val_accuracy: 0.7083\n"
          ]
        }
      ]
    },
    {
      "cell_type": "code",
      "source": [],
      "metadata": {
        "id": "DYz5FKt1Lr-5",
        "outputId": "e320636f-22fe-4cb4-81b3-d29376ff2299",
        "colab": {
          "base_uri": "https://localhost:8080/"
        }
      },
      "execution_count": 33,
      "outputs": [
        {
          "output_type": "stream",
          "name": "stdout",
          "text": [
            "60\n",
            "60\n"
          ]
        }
      ]
    },
    {
      "cell_type": "code",
      "source": [
        "from sklearn.metrics import accuracy_score, mean_squared_error\n",
        "\n",
        "# Assuming you have test_annotations and test_labels available\n",
        "\n",
        "# Calculate the predictions\n",
        "predictions = model.predict(test_images)\n",
        "\n",
        "# Convert predictions to class labels (if applicable)\n",
        "\n",
        "\n",
        "# Calculate the accuracy\n",
        "\n",
        "\n",
        "\n",
        "# Calculate the mean squared error\n",
        "mse = mean_squared_error(test_annotations['x'], predictions)\n",
        "\n",
        "\n",
        "\n",
        "# Print the test loss and accuracy\n",
        "print(\"Test Loss (MSE):\", mse)\n",
        "print(\"Test Accuracy:\", accuracy)\n"
      ],
      "metadata": {
        "colab": {
          "base_uri": "https://localhost:8080/",
          "height": 281
        },
        "id": "2ZsPadgrdSml",
        "outputId": "71a786f1-9ca5-4da2-c5bd-189acaf1302b"
      },
      "execution_count": 50,
      "outputs": [
        {
          "output_type": "stream",
          "name": "stdout",
          "text": [
            "2/2 [==============================] - 0s 152ms/step\n"
          ]
        },
        {
          "output_type": "error",
          "ename": "IndexError",
          "evalue": "ignored",
          "traceback": [
            "\u001b[0;31m---------------------------------------------------------------------------\u001b[0m",
            "\u001b[0;31mIndexError\u001b[0m                                Traceback (most recent call last)",
            "\u001b[0;32m<ipython-input-50-51ed71307159>\u001b[0m in \u001b[0;36m<cell line: 16>\u001b[0;34m()\u001b[0m\n\u001b[1;32m     14\u001b[0m \u001b[0;34m\u001b[0m\u001b[0m\n\u001b[1;32m     15\u001b[0m \u001b[0;31m# Calculate the mean squared error\u001b[0m\u001b[0;34m\u001b[0m\u001b[0;34m\u001b[0m\u001b[0m\n\u001b[0;32m---> 16\u001b[0;31m \u001b[0mmse\u001b[0m \u001b[0;34m=\u001b[0m \u001b[0mmean_squared_error\u001b[0m\u001b[0;34m(\u001b[0m\u001b[0mtest_annotations\u001b[0m\u001b[0;34m[\u001b[0m\u001b[0;34m'x'\u001b[0m\u001b[0;34m]\u001b[0m\u001b[0;34m,\u001b[0m \u001b[0mpredictions\u001b[0m\u001b[0;34m)\u001b[0m\u001b[0;34m\u001b[0m\u001b[0;34m\u001b[0m\u001b[0m\n\u001b[0m\u001b[1;32m     17\u001b[0m \u001b[0;34m\u001b[0m\u001b[0m\n\u001b[1;32m     18\u001b[0m \u001b[0;34m\u001b[0m\u001b[0m\n",
            "\u001b[0;31mIndexError\u001b[0m: only integers, slices (`:`), ellipsis (`...`), numpy.newaxis (`None`) and integer or boolean arrays are valid indices"
          ]
        }
      ]
    },
    {
      "cell_type": "code",
      "source": [],
      "metadata": {
        "id": "7NEUE1d4knMn"
      },
      "execution_count": null,
      "outputs": []
    },
    {
      "cell_type": "code",
      "source": [],
      "metadata": {
        "id": "Qjllc5zd7b5-"
      },
      "execution_count": null,
      "outputs": []
    }
  ]
}